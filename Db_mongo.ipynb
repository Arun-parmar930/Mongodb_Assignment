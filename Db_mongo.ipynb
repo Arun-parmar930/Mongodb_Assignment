{
 "cells": [
  {
   "cell_type": "markdown",
   "id": "e205239d",
   "metadata": {},
   "source": [
    "# Theoritical Questions"
   ]
  },
  {
   "cell_type": "markdown",
   "id": "eacbef60",
   "metadata": {},
   "source": [
    "1. What are the key differences between SQL and NoSQL databases\n",
    "- SQL databases store data in structured tables with fixed schemas and use SQL for queries. They are best for complex relationships and transactions.\n",
    "\n",
    "- NoSQL databases store data flexibly as documents, key-value pairs, or graphs, and are ideal for handling large, unstructured, or quickly changing data."
   ]
  },
  {
   "cell_type": "markdown",
   "id": "de373f33",
   "metadata": {},
   "source": [
    "2. What makes MongoDB a good choice for modern applications\n",
    "- MongoDB is a good choice for modern applications because:\n",
    "    - It stores data in a flexible, JSON-like format (BSON), making it easy to handle changing or unstructured data.\n",
    "    - It supports horizontal scaling, making it ideal for high-traffic, large-scale apps.\n",
    "    - It's fast, developer-friendly, and integrates well with modern tech stacks (like Node.js, Python, etc.)."
   ]
  },
  {
   "cell_type": "markdown",
   "id": "e7ebbd13",
   "metadata": {},
   "source": [
    "3. Explain the concept of collections in MongoDB\n",
    "- In MongoDB, a collection is like a table in SQL databases.\n",
    "    - It stores documents (records) in a flexible, JSON-like format.\n",
    "    - Unlike tables, collections don’t require a fixed schema, so each document can have different fields.\n",
    "    - Example: A users collection might store user profiles, with each document having details like name, email, and age."
   ]
  },
  {
   "cell_type": "markdown",
   "id": "9c984751",
   "metadata": {},
   "source": [
    "4. How does MongoDB ensure high availability using replication?\n",
    "- MongoDB uses replica sets, where data is duplicated from the primary to secondary nodes. If the primary fails, a secondary is promoted to maintain availability."
   ]
  },
  {
   "cell_type": "markdown",
   "id": "1d3401e1",
   "metadata": {},
   "source": [
    "5. What are the main benefits of MongoDB Atlas?\n",
    "- MongoDB Atlas is a managed cloud database with features like auto-scaling, backups, monitoring, and global distribution, reducing manual management."
   ]
  },
  {
   "cell_type": "markdown",
   "id": "26a8869e",
   "metadata": {},
   "source": [
    "6. What is the role of indexes in MongoDB, and how do they improve performance?\n",
    "- Indexes allow MongoDB to quickly locate data, significantly improving read performance by avoiding full collection scans."
   ]
  },
  {
   "cell_type": "markdown",
   "id": "ee2a13f9",
   "metadata": {},
   "source": [
    "7. Describe the stages of the MongoDB aggregation pipeline.\n",
    "- Stages like $match, $group, $project, and $sort process and transform documents step by step, enabling powerful data aggregation and analysis."
   ]
  },
  {
   "cell_type": "markdown",
   "id": "d89bccb0",
   "metadata": {},
   "source": [
    "8. What is sharding in MongoDB? How does it differ from replication?\n",
    "- Sharding splits data across servers for scalability, while replication copies data to ensure availability and fault tolerance."
   ]
  },
  {
   "cell_type": "markdown",
   "id": "5fdd0a3e",
   "metadata": {},
   "source": [
    "9. What is PyMongo, and why is it used?\n",
    "- PyMongo is the official MongoDB driver for Python, allowing developers to connect and interact with MongoDB from Python applications."
   ]
  },
  {
   "cell_type": "markdown",
   "id": "b895029e",
   "metadata": {},
   "source": [
    "10. What are the ACID properties in the context of MongoDB transactions?\n",
    "- ACID stands for Atomicity, Consistency, Isolation, and Durability, ensuring safe and reliable multi-document transactions in MongoDB."
   ]
  },
  {
   "cell_type": "markdown",
   "id": "dca018ba",
   "metadata": {},
   "source": [
    "11. What is the purpose of MongoDB’s explain() function?\n",
    "- The explain() function shows how a query is executed, helping developers optimize performance by analyzing index use and execution stages."
   ]
  },
  {
   "cell_type": "markdown",
   "id": "8a89280a",
   "metadata": {},
   "source": [
    "12. How does MongoDB handle schema validation?\n",
    "- MongoDB allows defining validation rules using JSON Schema, enabling optional enforcement of data structure while keeping flexibility."
   ]
  },
  {
   "cell_type": "markdown",
   "id": "81b3746f",
   "metadata": {},
   "source": [
    "13. What is the difference between a primary and a secondary node in a replica set?\n",
    "- The primary node handles all write operations, while secondary nodes replicate the data and can be used for read operations or failover."
   ]
  },
  {
   "cell_type": "markdown",
   "id": "713ca540",
   "metadata": {},
   "source": [
    "14. What security mechanisms does MongoDB provide for data protection?\n",
    "- MongoDB offers authentication, authorization (RBAC), TLS/SSL encryption, IP whitelisting, and auditing to protect data."
   ]
  },
  {
   "cell_type": "markdown",
   "id": "627301f6",
   "metadata": {},
   "source": [
    "15. Explain the concept of embedded documents and when they should be used.\n",
    "- Embedded documents are nested documents inside another document, useful when related data is accessed together, reducing the need for joins."
   ]
  },
  {
   "cell_type": "markdown",
   "id": "a7132188",
   "metadata": {},
   "source": [
    "16. What is the purpose of MongoDB’s $lookup stage in aggregation?\n",
    "- $lookup performs a join-like operation between two collections, allowing you to combine data based on a related field."
   ]
  },
  {
   "cell_type": "markdown",
   "id": "85ed7a95",
   "metadata": {},
   "source": [
    "17. What are some common use cases for MongoDB?\n",
    "- MongoDB is great for real-time analytics, CMS, product catalogs, IoT applications, and use cases needing flexible or evolving schemas.\n",
    "\n"
   ]
  },
  {
   "cell_type": "markdown",
   "id": "5e958c92",
   "metadata": {},
   "source": [
    "18. What are the advantages of using MongoDB for horizontal scaling?\n",
    "- MongoDB supports automatic sharding, allowing it to scale out across servers, handling more traffic and larger datasets efficiently."
   ]
  },
  {
   "cell_type": "markdown",
   "id": "e1b6836a",
   "metadata": {},
   "source": [
    "19. How do MongoDB transactions differ from SQL transactions?\n",
    "- MongoDB supports multi-document ACID transactions (since v4.0), but they're optional and may add overhead compared to SQL's built-in transactions.\n",
    "\n"
   ]
  },
  {
   "cell_type": "markdown",
   "id": "9fd3b6a3",
   "metadata": {},
   "source": [
    "20. What are the main differences between capped collections and regular collections?\n",
    "- Capped collections are fixed-size and overwrite old data, while regular collections grow dynamically and store data without order constraints."
   ]
  },
  {
   "cell_type": "markdown",
   "id": "df9d8400",
   "metadata": {},
   "source": [
    "21. What is the purpose of the $match stage in MongoDB’s aggregation pipeline?\n",
    "- $match filters documents based on specified conditions, like a WHERE clause, improving performance by reducing documents early in the pipeline.\n",
    "\n"
   ]
  },
  {
   "cell_type": "markdown",
   "id": "aa99c829",
   "metadata": {},
   "source": [
    "22. How can you secure access to a MongoDB database?\n",
    "- You can secure access using authentication, IP whitelisting, encryption (TLS), role-based access control, and disabling unused network interfaces."
   ]
  },
  {
   "cell_type": "markdown",
   "id": "f681c496",
   "metadata": {},
   "source": [
    "23. What is MongoDB’s WiredTiger storage engine, and why is it important?\n",
    "WiredTiger is the default storage engine that offers high performance, compression, and concurrent access, improving speed and storage efficiency."
   ]
  },
  {
   "cell_type": "markdown",
   "id": "5f898744",
   "metadata": {},
   "source": [
    "# Practical Questions"
   ]
  },
  {
   "cell_type": "code",
   "execution_count": null,
   "id": "6e9db130",
   "metadata": {},
   "outputs": [],
   "source": [
    "# 1.Write a Python script to load the Superstore dataset from a CSV file into MongoDB\n",
    "\n",
    "import pandas as pd\n",
    "from pymongo import MongoClient\n",
    "\n",
    "csv_file = \"superstore.csv\"  # Use full path if needed\n",
    "df = pd.read_csv('superstore.csv', encoding='ISO-8859-1')\n",
    "\n",
    "\n",
    "data_dict = df.to_dict(orient='records')\n",
    "\n",
    "# Step 3: Connect to MongoDB\n",
    "client = MongoClient(\"mongodb://localhost:27017/\")  \n",
    "db = client[\"superstore_db\"]                      \n",
    "collection = db[\"orders\"]                           \n",
    "\n",
    "\n",
    "collection.insert_many(data_dict)\n",
    "\n",
    "print(f\"{len(data_dict)} records inserted into MongoDB successfully.\")\n"
   ]
  },
  {
   "cell_type": "code",
   "execution_count": null,
   "id": "40132d77",
   "metadata": {},
   "outputs": [],
   "source": [
    "# 2.Retrieve and print all documents from the Orders collection\n",
    "\n",
    "list = collection.find()\n",
    "for data in list:\n",
    "    print(data)"
   ]
  },
  {
   "cell_type": "code",
   "execution_count": null,
   "id": "42deeea4",
   "metadata": {},
   "outputs": [],
   "source": [
    "# 3.Count and display the total number of documents in the Orders collection\n",
    "\n",
    "ct = collection.count_documents({})\n",
    "print(f\"The total number of document is {ct}\")"
   ]
  },
  {
   "cell_type": "code",
   "execution_count": null,
   "id": "5f10410c",
   "metadata": {},
   "outputs": [],
   "source": [
    "# 4.Write a query to fetch all orders from the \"West\" region\n",
    "docs = collection.find({'Region':'West'})\n",
    "for doc in docs:\n",
    "    print(doc)"
   ]
  },
  {
   "cell_type": "code",
   "execution_count": null,
   "id": "040f435c",
   "metadata": {},
   "outputs": [],
   "source": [
    "# 5.Write a query to find orders where Sales is greater than 500\n",
    "docs = collection.find({'Sales':{'$gt':500}})\n",
    "for doc in docs:\n",
    "    print(doc)"
   ]
  },
  {
   "cell_type": "code",
   "execution_count": null,
   "id": "53df6c69",
   "metadata": {},
   "outputs": [],
   "source": [
    "# 6.Fetch the top 3 orders with the highest Profit\n",
    "docs = collection.find().sort('Profit', -1).limit(3)\n",
    "for doc in docs:\n",
    "    print(doc)"
   ]
  },
  {
   "cell_type": "code",
   "execution_count": null,
   "id": "04f30cc9",
   "metadata": {},
   "outputs": [],
   "source": [
    "# 7.Update all orders with Ship Mode as \"First Class\" to \"Premium Class\".\n",
    "\n",
    "collection.update_many({'Ship Mode':'First Class'},{'$set':{'Ship Mode':'Premium Class'}})\n",
    "doc = collection.find({'Ship Mode':'Premium Class'})\n",
    "print(*doc)"
   ]
  },
  {
   "cell_type": "code",
   "execution_count": null,
   "id": "5ab74136",
   "metadata": {},
   "outputs": [],
   "source": [
    "# 8.Delete all orders where Sales is less than 50.\n",
    "collection.delete_many({\"Sales\" : {'%lt' : 50}})\n",
    "print(\"deletion successful\")"
   ]
  },
  {
   "cell_type": "code",
   "execution_count": null,
   "id": "359692f8",
   "metadata": {},
   "outputs": [],
   "source": [
    "# 9.Use aggregation to group orders by Region and calculate total sales per region\n",
    "pipeline = [\n",
    "    {\n",
    "        '$group': {\n",
    "            '_id': '$Region',\n",
    "            'total_sales': {'$sum': '$Sales'}\n",
    "        }\n",
    "    }\n",
    "]\n",
    "\n",
    "results = collection.aggregate(pipeline)\n",
    "\n",
    "for result in results:\n",
    "    print(f\"Region: {result['_id']}, Total Sales: {result['total_sales']}\")\n"
   ]
  },
  {
   "cell_type": "code",
   "execution_count": null,
   "id": "cdf1e607",
   "metadata": {},
   "outputs": [],
   "source": [
    "# 10. Fetch all distinct values for Ship Mode from the collection\n",
    "ship_modes = collection.distinct(\"Ship Mode\")\n",
    "print(\"Distinct Ship Modes:\")\n",
    "for mode in ship_modes:\n",
    "    print(\"-\", mode)\n"
   ]
  },
  {
   "cell_type": "code",
   "execution_count": null,
   "id": "06b0367e",
   "metadata": {},
   "outputs": [],
   "source": [
    "# 11. Count the number of orders for each category.\n",
    "pipeline = [\n",
    "    {\n",
    "        '$group' : {\n",
    "            '_id': \"$Category\",\n",
    "            'count': {'$sum': 1}\n",
    "        }\n",
    "    }\n",
    "]\n",
    "result = collection.aggregate(pipeline)\n",
    "for res in result:\n",
    "    print(f\"Category: {res['_id']}, Count: {res['count']}\")\n"
   ]
  },
  {
   "cell_type": "code",
   "execution_count": null,
   "id": "6e9bc3ec",
   "metadata": {},
   "outputs": [],
   "source": []
  }
 ],
 "metadata": {
  "kernelspec": {
   "display_name": "base",
   "language": "python",
   "name": "python3"
  },
  "language_info": {
   "codemirror_mode": {
    "name": "ipython",
    "version": 3
   },
   "file_extension": ".py",
   "mimetype": "text/x-python",
   "name": "python",
   "nbconvert_exporter": "python",
   "pygments_lexer": "ipython3",
   "version": "3.12.7"
  }
 },
 "nbformat": 4,
 "nbformat_minor": 5
}
